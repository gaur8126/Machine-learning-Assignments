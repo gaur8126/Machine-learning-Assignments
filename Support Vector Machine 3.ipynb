{
 "cells": [
  {
   "cell_type": "markdown",
   "id": "e8233575-e2dd-4083-95ed-950b156c4abc",
   "metadata": {},
   "source": [
    "# Q.1\n",
    "\n",
    "### Best Metric for House Price Prediction\n",
    "For predicting house prices, Root Mean Squared Error (RMSE) is often considered the best metric because:\n",
    "\n",
    "* It provides an error measure in the same units as the predicted variable (house prices), making it easy to interpret.\n",
    "* It penalizes larger errors more than smaller ones, which is important in house price prediction where large errors can be particularly costly.\n",
    "* It balances the benefits of MSE (penalizing large errors) and MAE (interpretability).\n",
    "* Therefore, RMSE would be the most suitable regression metric to employ in this situation for evaluating the performance of your SVM regression model.\n"
   ]
  },
  {
   "cell_type": "markdown",
   "id": "d52ace71-dcee-484f-a7a2-b4888fa912f9",
   "metadata": {},
   "source": [
    "# Q.2 \n",
    "\n",
    "if i want to choose one of mse and r2_quare which meteics has more accuracy , i will choose that whether it is mse or r2 score "
   ]
  },
  {
   "cell_type": "markdown",
   "id": "65b71256-b249-4309-afe5-6f443b13eb10",
   "metadata": {},
   "source": [
    "# Q.3\n",
    "\n",
    "To robust the outliers i would choose Mean Absolute Error "
   ]
  },
  {
   "cell_type": "markdown",
   "id": "4d34641c-3f59-4397-a75f-0cd96677b356",
   "metadata": {},
   "source": [
    "# Q.4\n",
    "\n",
    "When both Mean Squared Error (MSE) and Root Mean Squared Error (RMSE) values are very close, it is typically better to use RMSE as your evaluation metric. "
   ]
  },
  {
   "cell_type": "markdown",
   "id": "d630519d-c77e-407d-9cdd-a9014283ce0d",
   "metadata": {},
   "source": [
    "# Q.5 \n",
    "\n",
    "If your goal is to measure how well the model explains the variance in the target variable, the most appropriate evaluation metric to use is R-squared (R²). R² provides a measure of the proportion of the variance in the dependent variable that is predictable from the independent variables."
   ]
  },
  {
   "cell_type": "code",
   "execution_count": null,
   "id": "f1d40331-7bc8-4476-932f-83a474bf6e03",
   "metadata": {},
   "outputs": [],
   "source": []
  }
 ],
 "metadata": {
  "kernelspec": {
   "display_name": "Python 3 (ipykernel)",
   "language": "python",
   "name": "python3"
  },
  "language_info": {
   "codemirror_mode": {
    "name": "ipython",
    "version": 3
   },
   "file_extension": ".py",
   "mimetype": "text/x-python",
   "name": "python",
   "nbconvert_exporter": "python",
   "pygments_lexer": "ipython3",
   "version": "3.10.8"
  }
 },
 "nbformat": 4,
 "nbformat_minor": 5
}

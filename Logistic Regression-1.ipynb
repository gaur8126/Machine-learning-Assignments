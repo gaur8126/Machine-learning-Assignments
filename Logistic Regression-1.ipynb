{
 "cells": [
  {
   "cell_type": "markdown",
   "id": "7a13dac6-282b-4850-94b5-67161ad8afe4",
   "metadata": {},
   "source": [
    "## Q.1 "
   ]
  },
  {
   "cell_type": "markdown",
   "id": "a6b06646-d10f-4f8b-b62a-9282361e3940",
   "metadata": {},
   "source": [
    "Linear Regression\n",
    "Linear regression is used to predict a continuous outcome variable based on one or more predictor variables.\n",
    "\n",
    "scenario- house price prediction based on area and no of rooms \n",
    "\n",
    "Logistic Regression\n",
    "Logistic regression is used to predict a binary outcome variable, which has two possible outcomes (often coded as 0 and 1).\n",
    "\n",
    "Scenario-email spam ham detection , spqam or not spam"
   ]
  },
  {
   "cell_type": "markdown",
   "id": "de6931e6-3cad-4e72-975e-dcfaa32a6d85",
   "metadata": {},
   "source": [
    "## Q.2\n",
    "\n",
    "### Cost function in logistic regression\n",
    "\n",
    "y = -ylog(h(x)) - (1-y)log(1-h(x))\n",
    "\n",
    "it is optimized by Gradient descent"
   ]
  },
  {
   "cell_type": "markdown",
   "id": "654ce786-ef35-41c0-bda7-67baf1502b03",
   "metadata": {},
   "source": [
    "## Q.3\n",
    "\n",
    "Regularization in logistic regression is a technique used to prevent overfitting by adding a penalty term to the cost function\n",
    "\n",
    "Regularization helps prevent overfitting -\n",
    "1. Penalizing complexity\n",
    "2. Bias Varience tred-off\n",
    "3. Feature selection"
   ]
  },
  {
   "cell_type": "markdown",
   "id": "650613e9-bc5a-4331-a846-92c0c7aef450",
   "metadata": {},
   "source": [
    "## Q.4 \n",
    "\n",
    "The ROC (Receiver Operating Characteristic) curve is a graphical representation used to evaluate the performance of a binary classification model, such as logistic regression. It plots the True Positive Rate (TPR) against the False Positive Rate (FPR) at various threshold settings. Here's a detailed explanation of the ROC curve and its use in evaluating the performance of a logistic regression model:\n",
    "\n",
    "Use of ROC Curve in Evaluating Logistic Regression\n",
    "Threshold Selection: The ROC curve helps in selecting the optimal threshold that balances the TPR and FPR according to the specific needs of the application.\n",
    "\n",
    "For example, if false positives are particularly costly, one might choose a threshold that minimizes the FPR while maintaining an acceptable TPR.\n",
    "Model Comparison: The ROC curve allows for the comparison of multiple models. A model with a higher AUC is generally considered better.\n",
    "\n",
    "By comparing the ROC curves of different models, one can assess which model performs best across various thresholds.\n",
    "Performance Metrics: The ROC curve provides a more comprehensive view of model performance than metrics like accuracy, which can be misleading, especially with imbalanced datasets."
   ]
  },
  {
   "cell_type": "markdown",
   "id": "638859eb-a282-4a34-b389-2c4f90a6193d",
   "metadata": {},
   "source": [
    "## Q.5 \n",
    "\n",
    "commoon Techniques for feature selection in logistic regression \n",
    "\n",
    "1. Filter method \n",
    "2. Wraper Method\n",
    "3. Embedded Method\n",
    "4. Dimantionality Method \n",
    "\n",
    "How Feature Selection Improves Model Performance\n",
    "Reduces Overfitting: By eliminating irrelevant or redundant features, the model is less likely to capture noise in the training data, leading to better generalization to unseen data.\n",
    "Improves Accuracy: Simplifying the model by removing unnecessary features can lead to more robust and accurate predictions.\n",
    "Enhances Interpretability: A model with fewer features is easier to understand and interpret, which is especially important in domains where explainability is crucial.\n",
    "Reduces Training Time: Fewer features mean fewer computations, leading to faster training and evaluation times.\n",
    "Mitigates Multicollinearity: Removing highly correlated features can improve the stability of the model's coefficients and make the model more reliable."
   ]
  },
  {
   "cell_type": "markdown",
   "id": "0e6cff62-5a5c-47fe-98cb-9efba220932b",
   "metadata": {},
   "source": [
    "## Q.6\n",
    "\n",
    "For handling imbalanced dataset in logistic regression we use\n",
    "1. Precision\n",
    "2. Recall\n",
    "3. F1 score \n",
    "4. SMOTE"
   ]
  },
  {
   "cell_type": "markdown",
   "id": "1836cf0c-afe1-4c29-b924-459b02b84896",
   "metadata": {},
   "source": []
  }
 ],
 "metadata": {
  "kernelspec": {
   "display_name": "Python 3 (ipykernel)",
   "language": "python",
   "name": "python3"
  },
  "language_info": {
   "codemirror_mode": {
    "name": "ipython",
    "version": 3
   },
   "file_extension": ".py",
   "mimetype": "text/x-python",
   "name": "python",
   "nbconvert_exporter": "python",
   "pygments_lexer": "ipython3",
   "version": "3.10.8"
  }
 },
 "nbformat": 4,
 "nbformat_minor": 5
}

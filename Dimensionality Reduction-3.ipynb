{
 "cells": [
  {
   "cell_type": "markdown",
   "id": "5f4080ae-15b9-4538-a83a-170490358cd6",
   "metadata": {},
   "source": [
    "# Q.1\n",
    "\n",
    "Eigenvalues and Eigenvectors:\n",
    "\n",
    "Eigenvector: A non-zero vector 𝑣 such that when a linear transformation represented by a matrix A is applied to it, the vector 𝑣 changes only in scale, not in direction.\n",
    "* Av=λv\n",
    "\n",
    "Eigenvalue: The scalar λ corresponding to an eigenvector 𝑣. It represents the factor by which the eigenvector is scaled during the transformation.\n",
    "\n",
    "Eigen-Decomposition:\n",
    "\n",
    "Eigen-decomposition is a matrix factorization technique where a matrix A is decomposed into its eigenvalues and eigenvectors.\n",
    "\n"
   ]
  },
  {
   "cell_type": "markdown",
   "id": "150ceb69-2316-4532-a61e-f7eebc89b56c",
   "metadata": {},
   "source": [
    "# Q.2\n",
    "\n",
    "Significance:\n",
    "\n",
    "Simplifies Matrix Operations: Eigen-decomposition simplifies many matrix operations, such as matrix exponentiation and solving systems of linear equations.\n",
    "Dimensionality Reduction: It is used in PCA for reducing the dimensionality of data.\n",
    "Understanding Linear Transformations: Provides insight into the properties of linear transformations represented by matrices, such as scaling and rotation."
   ]
  },
  {
   "cell_type": "markdown",
   "id": "a92e156c-3a13-4d8b-9d9c-6c53650e4168",
   "metadata": {},
   "source": [
    "# Q.3\n",
    "\n",
    "Conditions for Diagonalizability:\n",
    "\n",
    "The matrix A must have n linearly independent eigenvectors, where n is the size of the matrix.\n",
    "Proof:\n",
    "If a matrix A has 𝑛 distinct eigenvalues, then it has 𝑛 linearly independent eigenvectors"
   ]
  },
  {
   "cell_type": "markdown",
   "id": "57b67c0f-5d83-420a-8160-32fee679a2c4",
   "metadata": {},
   "source": [
    "# Q.4 \n",
    "\n",
    "Spectral Theorem:\n",
    "\n",
    "The spectral theorem states that any symmetric (or Hermitian in complex case) matrix A can be diagonalized by an orthogonal matrix Q, such that:\n",
    "\n",
    "Significance:\n",
    "\n",
    "It guarantees that symmetric matrices are always diagonalizable and provides a way to orthogonally diagonalize them."
   ]
  },
  {
   "cell_type": "markdown",
   "id": "2601a00c-416a-49b8-a502-d94ac8cff85a",
   "metadata": {},
   "source": [
    "# Q.5\n",
    "\n",
    "Finding Eigenvalues:\n",
    "\n",
    "Solve the characteristic equation:det(A−λI)=0\n",
    "\n",
    "The solutions λ are the eigenvalues of the matrix A.\n",
    "\n",
    "Representation:\n",
    "\n",
    "Eigenvalues represent the factors by which the corresponding eigenvectors are scaled during the linear transformation represented by the matrix A."
   ]
  },
  {
   "cell_type": "markdown",
   "id": "7e50b0d5-318b-4e87-87a5-39caee60fa9d",
   "metadata": {},
   "source": [
    "# Q.6\n",
    "\n",
    "Eigenvectors:\n",
    "\n",
    "Eigenvectors are non-zero vectors that only change in scale (not direction) when a linear transformation represented by a matrix A is applied to them.\n",
    "Relation to Eigenvalues:\n",
    "\n",
    "Eigenvectors v satisfy the equation:\n",
    "Av=λv"
   ]
  },
  {
   "cell_type": "markdown",
   "id": "f7ee1579-87d6-4625-9993-96318c0e9606",
   "metadata": {},
   "source": [
    "# Q.7\n",
    "\n",
    "Geometric Interpretation:\n",
    "\n",
    "Eigenvectors: Represent directions in the vector space that remain invariant under the linear transformation represented by the matrix A.\n",
    "Eigenvalues: Represent the scaling factors along the directions of the eigenvectors."
   ]
  },
  {
   "cell_type": "markdown",
   "id": "4d94991e-4ccb-4fdb-8094-a53d4702aafa",
   "metadata": {},
   "source": [
    "# Q.8\n",
    "\n",
    "### Applications:\n",
    "\n",
    "1. Principal Component Analysis (PCA): Used for dimensionality reduction by projecting data onto the principal components (eigenvectors) with the highest variance (eigenvalues).\n",
    "2. Vibration Analysis: Identifies natural frequencies (eigenvalues) and modes (eigenvectors) of mechanical systems.\n",
    "3. Facial Recognition: Eigenfaces technique uses eigen decomposition for feature extraction in facial recognition systems.\n",
    "4. Quantum Mechanics: Describes the states and energy levels of quantum systems using eigenvalues and eigenvectors of operators."
   ]
  },
  {
   "cell_type": "markdown",
   "id": "aadfd8e2-cb97-4f2e-bdbc-1528e90208c9",
   "metadata": {},
   "source": [
    "# Q.9\n",
    "\n",
    "Eigenvectors and Eigenvalues:\n",
    "\n",
    "A matrix has a unique set of eigenvalues, but each eigenvalue can have multiple linearly independent eigenvectors forming an eigenspace.\n",
    "A matrix may have multiple sets of eigenvectors if eigenvalues are repeated (degenerate eigenvalues)."
   ]
  },
  {
   "cell_type": "code",
   "execution_count": null,
   "id": "7c3e8902-a211-4ad2-9bd6-a4f9e24f65f5",
   "metadata": {},
   "outputs": [],
   "source": [
    "# "
   ]
  }
 ],
 "metadata": {
  "kernelspec": {
   "display_name": "Python 3 (ipykernel)",
   "language": "python",
   "name": "python3"
  },
  "language_info": {
   "codemirror_mode": {
    "name": "ipython",
    "version": 3
   },
   "file_extension": ".py",
   "mimetype": "text/x-python",
   "name": "python",
   "nbconvert_exporter": "python",
   "pygments_lexer": "ipython3",
   "version": "3.10.8"
  }
 },
 "nbformat": 4,
 "nbformat_minor": 5
}

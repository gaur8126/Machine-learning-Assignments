{
 "cells": [
  {
   "cell_type": "markdown",
   "id": "6e3acb92-d4c9-4085-a455-9e131d07c23c",
   "metadata": {},
   "source": [
    "# Q.1 \n",
    "\n",
    "Time-dependent seasonal components refer to seasonal patterns in a time series that change over time. Unlike fixed seasonality, where the seasonal pattern remains consistent across different periods (e.g., sales always peak in December every year), time-dependent seasonality may vary in intensity, duration, or even pattern over different time intervals."
   ]
  },
  {
   "cell_type": "markdown",
   "id": "b023ffec-1a14-49cc-b0cf-bae48f7ca2a4",
   "metadata": {},
   "source": [
    "# Q.2\n",
    "\n",
    "Time-dependent seasonal components can be identified through several methods:\n",
    "\n",
    "Visual Inspection: Plotting the time series and visually inspecting for changing seasonal patterns over time.\n",
    "Seasonal Decomposition: Using methods like STL (Seasonal-Trend decomposition using LOESS) to decompose the series into trend, seasonal, and residual components and observing if the seasonal component changes over time.\n",
    "Sliding Window Analysis: Analyzing the series in smaller windows to detect changes in seasonality across different time periods.\n",
    "Fourier Transforms: Applying Fourier transforms to identify changes in dominant frequencies over time.\n",
    "Time-Frequency Analysis: Using wavelet transforms to analyze how the frequency content of the series changes over time.\n"
   ]
  },
  {
   "cell_type": "markdown",
   "id": "4b5ec456-70e5-462b-9dfd-568fd21148e6",
   "metadata": {},
   "source": [
    "# Q.3 \n",
    "\n",
    "Factors that can influence time-dependent seasonal components include:\n",
    "\n",
    "External Events: Events such as economic downturns, pandemics, or natural disasters that can disrupt usual seasonal patterns.\n",
    "Market Changes: Shifts in consumer behavior, new competitors, or changes in market conditions.\n",
    "Policy Changes: Government regulations, tax policies, or trade policies that impact seasonal trends.\n",
    "Technological Advancements: Innovations that alter production, distribution, or consumption patterns.\n",
    "Environmental Changes: Climate change or seasonal environmental factors impacting specific industries."
   ]
  },
  {
   "cell_type": "markdown",
   "id": "1b216e3f-e6d6-4a60-9f19-fd1b232e7783",
   "metadata": {},
   "source": [
    "# Q.4\n",
    "\n",
    "Autoregression (AR) models are used in time series analysis and forecasting by expressing the current value of the series as a linear combination of its past values. The model assumes that past values have a linear influence on the current value.\n",
    "\n",
    "Steps in using AR models:\n",
    "\n",
    "Model Identification: Determine the order (p) of the AR model, which indicates how many past values to use.\n",
    "Parameter Estimation: Estimate the coefficients that best describe the relationship between the current value and its past values.\n",
    "Model Checking: Validate the model by examining residuals to ensure they resemble white noise.\n",
    "Forecasting: Use the model to predict future values by applying the estimated parameters to past values.\n"
   ]
  },
  {
   "cell_type": "markdown",
   "id": "44588d5a-6ec5-4fdd-a015-404e0823b616",
   "metadata": {},
   "source": [
    "# Q.5\n",
    "\n",
    "1. Fit the AR Model: Estimate the parameters of the AR model using historical data.\n",
    "2. Generate Predictions: Use the fitted model to predict future values. For a future time point \n",
    "3. Iterate Predictions: For multi-step forecasts, use the predicted values as inputs for subsequent predictions."
   ]
  },
  {
   "cell_type": "markdown",
   "id": "39b54713-dfdc-4778-9cab-fa12e001bcb3",
   "metadata": {},
   "source": [
    "# Q.6\n",
    "\n",
    "A Moving Average (MA) model is a time series model that represents the current value of the series as a linear combination of past forecast errors (shocks or residuals).\n",
    "\n",
    "#### Key Differences:\n",
    "\n",
    "- AR Model: Uses past values of the series to predict future values.\n",
    "- MA Model: Uses past forecast errors to predict future values.\n",
    "- ARMA Model: Combines both AR and MA components, using past values and past errors for predictions."
   ]
  },
  {
   "cell_type": "code",
   "execution_count": null,
   "id": "67afdb02-f1df-4b2c-88d7-4a2d093bbe9f",
   "metadata": {},
   "outputs": [],
   "source": [
    "# ."
   ]
  }
 ],
 "metadata": {
  "kernelspec": {
   "display_name": "Python 3 (ipykernel)",
   "language": "python",
   "name": "python3"
  },
  "language_info": {
   "codemirror_mode": {
    "name": "ipython",
    "version": 3
   },
   "file_extension": ".py",
   "mimetype": "text/x-python",
   "name": "python",
   "nbconvert_exporter": "python",
   "pygments_lexer": "ipython3",
   "version": "3.10.8"
  }
 },
 "nbformat": 4,
 "nbformat_minor": 5
}

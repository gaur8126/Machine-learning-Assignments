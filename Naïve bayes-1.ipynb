{
 "cells": [
  {
   "cell_type": "markdown",
   "id": "2c453b9a-7575-47a1-a12e-0d3c3fc07419",
   "metadata": {},
   "source": [
    "# Q.1\n",
    "\n",
    "Bayes' theorem is a fundamental theorem in probability theory that describes how to update the probabilities of hypotheses when given evidence. It relates the conditional probability of a hypothesis given evidence to the conditional probability of the evidence given the hypothesis and the prior probability of the hypothesis."
   ]
  },
  {
   "cell_type": "markdown",
   "id": "2664f29a-5d12-4abd-9883-0852c31351b6",
   "metadata": {},
   "source": [
    "# Q.2 \n",
    "\n",
    "### Formula for base theorem-\n",
    "\n",
    "Pr(A/B) = (Pr(A) * Pr(B/A))/Pr(B)\n",
    "\n",
    "Where- \n",
    "* Pr(A/B) - Probavility of event A given B has occured\n",
    "* Pr(A) - Probavility of event A \n",
    "* pr(B) - probability of event B\n",
    "* Pr(B/A) - Probability of event B given A has occured "
   ]
  },
  {
   "cell_type": "markdown",
   "id": "e491b0fc-12e8-45c0-bbac-b07ff0c6171d",
   "metadata": {},
   "source": [
    "# Q.3\n",
    "\n",
    "Bayes' theorem is used in various fields for updating probabilities based on new data. Some common applications include:\n",
    "\n",
    "Medical diagnosis: Updating the probability of a disease given test results.\n",
    "Spam filtering: Determining the probability that an email is spam based on its content.\n",
    "Machine learning: Used in algorithms like Naive Bayes classifiers to make predictions based on prior knowledge and observed data.\n",
    "Risk assessment: Updating risk probabilities in financial markets or insurance.\n",
    "Natural language processing: Estimating the likelihood of a word or phrase given a certain context."
   ]
  },
  {
   "cell_type": "markdown",
   "id": "36552e05-4444-45c0-8a32-ee1d1b735496",
   "metadata": {},
   "source": [
    "# Q.4\n",
    "\n",
    "Bayes' theorem is a direct consequence of the definition of conditional probability. It provides a way to reverse conditional probabilities. While conditional probability \n",
    "𝑃(𝐴∣𝐵 tells us the probability of 𝐴 given 𝐵, Bayes' theorem allows us to compute P(B∣A) given P(A∣B), P(A), and P(B)."
   ]
  },
  {
   "cell_type": "markdown",
   "id": "eefb3856-c6b7-47a0-b0be-a1d004b1140a",
   "metadata": {},
   "source": [
    "# Q.5\n",
    "\n",
    "Multinomial Naive Bayes: Best for discrete data, often used in text classification and word counts.\n",
    "Bernoulli Naive Bayes: Suitable for binary/boolean features, where features are either present or absent.\n",
    "Gaussian Naive Bayes: Used for continuous data, assuming features follow a Gaussian distribution."
   ]
  },
  {
   "cell_type": "markdown",
   "id": "6813b364-661f-4908-baab-c52600f814a3",
   "metadata": {},
   "source": [
    "# Q.6\n",
    "\n"
   ]
  }
 ],
 "metadata": {
  "kernelspec": {
   "display_name": "Python 3 (ipykernel)",
   "language": "python",
   "name": "python3"
  },
  "language_info": {
   "codemirror_mode": {
    "name": "ipython",
    "version": 3
   },
   "file_extension": ".py",
   "mimetype": "text/x-python",
   "name": "python",
   "nbconvert_exporter": "python",
   "pygments_lexer": "ipython3",
   "version": "3.10.8"
  }
 },
 "nbformat": 4,
 "nbformat_minor": 5
}

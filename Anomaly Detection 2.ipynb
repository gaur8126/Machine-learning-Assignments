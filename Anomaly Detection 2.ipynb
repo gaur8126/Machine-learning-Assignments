{
 "cells": [
  {
   "cell_type": "markdown",
   "id": "57ca8298-df05-4717-aabb-bd2fe85608b1",
   "metadata": {},
   "source": [
    "# Q.1  \n",
    "\n"
   ]
  },
  {
   "cell_type": "markdown",
   "id": "d12638cc-2b9c-4faa-a807-02f3d0776086",
   "metadata": {},
   "source": [
    "Feature selection in anomaly detection is crucial as it involves identifying the most relevant features that contribute to detecting anomalies. The key roles include:\n",
    "\n",
    "Reducing Dimensionality: Simplifies the model, making it more interpretable and reducing computational complexity.\n",
    "Improving Accuracy: Helps in focusing on the most informative features, thereby enhancing the detection accuracy.\n",
    "Removing Noise: Eliminates irrelevant or redundant features that could introduce noise, leading to better detection performance.\n",
    "Avoiding Overfitting: Reduces the risk of overfitting by limiting the model to essential features."
   ]
  },
  {
   "cell_type": "markdown",
   "id": "bd6cd654-a7f8-42ca-ad7c-ec978c96ed8c",
   "metadata": {},
   "source": [
    "# Q.2\n",
    "\n",
    "The common evaluation metrics - \n",
    "\n",
    "1. Precision \n",
    "2. Recall\n",
    "3. F1 Score \n",
    "4. ROC and AUC"
   ]
  },
  {
   "cell_type": "markdown",
   "id": "d95431f5-e584-4084-b4f1-5288ddcef694",
   "metadata": {},
   "source": [
    "# Q.3 \n",
    "\n",
    "DBSCAN (Density-Based Spatial Clustering of Applications with Noise) is a clustering algorithm that groups points based on density:\n",
    "\n",
    "Core Points: Points with at least a minimum number of neighbors (MinPts) within a given distance (epsilon).\n",
    "Border Points: Points that are within the epsilon distance of a core point but have fewer than MinPts neighbors.\n",
    "Noise Points: Points that are neither core nor border points.\n",
    "DBSCAN works by:\n",
    "\n",
    "Selecting an unvisited point and checking its epsilon neighborhood.\n",
    "Classifying the point as a core point if it has at least MinPts neighbors, otherwise marking it as noise.\n",
    "Expanding clusters by recursively visiting and including reachable core points and their neighbors."
   ]
  },
  {
   "cell_type": "markdown",
   "id": "7b38421b-0191-4c9e-af91-262a2f9f044d",
   "metadata": {},
   "source": [
    "# Q.4 \n",
    "\n",
    "The epsilon parameter (ε) in DBSCAN determines the radius within which points are considered neighbors:\n",
    "\n",
    "* Small ε: May result in many points being classified as noise, potentially missing some clusters.\n",
    "* Large ε: May merge distinct clusters into one, reducing the ability to detect anomalies effectively.\n",
    "\n",
    "Choosing the right ε is crucial for balancing the detection of clusters and anomalies."
   ]
  },
  {
   "cell_type": "markdown",
   "id": "44d386d1-6b14-4377-a126-f87e8defbc4d",
   "metadata": {},
   "source": [
    "# Q.5 \n",
    "\n",
    "1. Core Points: Have at least MinPts neighbors within the epsilon radius. They are central to clusters and unlikely to be anomalies.\n",
    "2. Border Points: Have fewer than MinPts neighbors but are within the epsilon radius of a core point. They are on the edge of clusters and may sometimes be considered anomalies.\n",
    "3. Noise Points: Do not meet the criteria for core or border points. They are often isolated and are usually considered anomalies."
   ]
  },
  {
   "cell_type": "markdown",
   "id": "1a02b5e7-67b8-4cbf-b648-987f867a4929",
   "metadata": {},
   "source": [
    "# Q.6\n",
    "\n",
    "DBSCAN detects anomalies by identifying noise points, which do not belong to any cluster. The key parameters are:\n",
    "\n",
    "* Epsilon (ε): The maximum radius of the neighborhood around a point.\n",
    "* MinPts: The minimum number of points required to form a dense region (core point).\n",
    "\n",
    "Points that are not part of any cluster (noise points) are detected as anomalies."
   ]
  },
  {
   "cell_type": "markdown",
   "id": "8e5a06b3-b18f-43b3-bd8e-c27a5dd7d9da",
   "metadata": {},
   "source": [
    "# Q.7 \n",
    "\n",
    "The make_circles function in scikit-learn is used to generate a synthetic dataset consisting of two interleaving circles. It is commonly used for testing and demonstrating clustering and classification algorithms."
   ]
  },
  {
   "cell_type": "markdown",
   "id": "152f038f-3453-468a-b46a-6fc59fed63c7",
   "metadata": {},
   "source": [
    "# Q.8 \n",
    "\n",
    "\n",
    "Local Outliers: Data points that are anomalies within a local context or neighborhood. They may be normal in the global context but deviate significantly from their local neighbors.\n",
    "\n",
    "Global Outliers: Data points that are anomalies in the entire dataset. They are distant from the majority of the data points globally."
   ]
  },
  {
   "cell_type": "markdown",
   "id": "77a18ecd-4782-4418-ab00-9d5076a8d687",
   "metadata": {},
   "source": [
    "# Q.9\n",
    "\n",
    "The Local Outlier Factor (LOF) algorithm detects local outliers by:\n",
    "\n",
    "Calculating the local density deviation of a data point with respect to its neighbors.\n",
    "Comparing the local density of the data point to the local densities of its neighbors.\n",
    "Assigning a higher LOF score to points with significantly lower local densities compared to their neighbors, indicating they are local outliers."
   ]
  },
  {
   "cell_type": "markdown",
   "id": "672a6d4b-9782-4096-bcda-70c2d4d2ed4d",
   "metadata": {},
   "source": [
    "# Q.10\n",
    "\n",
    "The Isolation Forest algorithm detects global outliers by:\n",
    "\n",
    "Randomly selecting a feature and a split value to create isolation trees.\n",
    "Measuring the average path length required to isolate each data point.\n",
    "Assigning anomaly scores based on the average path length across all trees, with shorter path lengths indicating global outliers."
   ]
  },
  {
   "cell_type": "markdown",
   "id": "43852744-e657-4acc-abff-28ee1080da69",
   "metadata": {},
   "source": [
    "# Q.11 \n",
    "\n"
   ]
  }
 ],
 "metadata": {
  "kernelspec": {
   "display_name": "Python 3 (ipykernel)",
   "language": "python",
   "name": "python3"
  },
  "language_info": {
   "codemirror_mode": {
    "name": "ipython",
    "version": 3
   },
   "file_extension": ".py",
   "mimetype": "text/x-python",
   "name": "python",
   "nbconvert_exporter": "python",
   "pygments_lexer": "ipython3",
   "version": "3.10.8"
  }
 },
 "nbformat": 4,
 "nbformat_minor": 5
}
